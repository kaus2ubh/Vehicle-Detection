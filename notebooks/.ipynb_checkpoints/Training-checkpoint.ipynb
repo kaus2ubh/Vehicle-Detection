{
 "cells": [
  {
   "cell_type": "markdown",
   "metadata": {},
   "source": [
    "## Training SVM"
   ]
  },
  {
   "cell_type": "code",
   "execution_count": 1,
   "metadata": {
    "collapsed": true
   },
   "outputs": [],
   "source": [
    "import numpy as np\n",
    "import cv2\n",
    "import matplotlib.pyplot as plt\n",
    "import matplotlib.image as mpimg\n",
    "import glob\n",
    "%matplotlib inline\n",
    "from functions.functions import *"
   ]
  },
  {
   "cell_type": "markdown",
   "metadata": {},
   "source": [
    "## Generate Features for Training"
   ]
  },
  {
   "cell_type": "code",
   "execution_count": 6,
   "metadata": {
    "collapsed": false
   },
   "outputs": [
    {
     "name": "stdout",
     "output_type": "stream",
     "text": [
      "vehicle <class 'list'> has 8792 samples\n",
      "not_vehicle <class 'list'> has 8968 samples\n",
      "17760 17760\n"
     ]
    }
   ],
   "source": [
    "import pickle\n",
    "from functions.functions import *\n",
    "\n",
    "#flags for fresh extraction 0 to load from pickle, 1 to make new pickle\n",
    "extract_features_flag = 0\n",
    "save_features_flag = 0\n",
    "\n",
    "if(extract_features_flag):\n",
    "    \n",
    "    #vehicle images\n",
    "    vehicle= glob.glob('../training_data/vehicles/*/*.png')\n",
    "    #non-vehicle images\n",
    "    not_vehicle = glob.glob('../training_data/non-vehicles/*/*.png')\n",
    "    \n",
    "    print(\"vehicle\", type(vehicle), \"has\", len(vehicle), \"samples\")\n",
    "    print(\"not_vehicle\", type(not_vehicle), \"has\", len(not_vehicle), \"samples\")\n",
    "    \n",
    "    color_space = 'YCrCb'\n",
    "    spa_size = (32,32)\n",
    "    h_bins = 32\n",
    "    orientations = 9\n",
    "    pixels_per_cell = 8\n",
    "    cells_per_block = 2\n",
    "    spatial_switch = True\n",
    "    histogram_switch = True\n",
    "    hog_switch = True\n",
    "\n",
    "\n",
    "    vehicle_features = extract_features(vehicle, color_space=color_space, spatial_size=spa_size, hist_bins=h_bins, orient=orientations,\n",
    "                                        pix_per_cell=pixels_per_cell, cell_per_block=cells_per_block, spatial_feat=spatial_switch,\n",
    "                                        hist_feat=histogram_switch, hog_feat=hog_switch)\n",
    "\n",
    "    not_vehicle_features = extract_features(not_vehicle, color_space=color_space, spatial_size=spa_size, hist_bins=h_bins, orient=orientations,\n",
    "                                        pix_per_cell=pixels_per_cell, cell_per_block=cells_per_block, spatial_feat=spatial_switch,\n",
    "                                        hist_feat=histogram_switch, hog_feat=hog_switch)\n",
    "\n",
    "    data = np.vstack((vehicle_features, not_vehicle_features)).astype(np.float64)                        \n",
    "    labels = np.hstack((np.ones(len(vehicle_features)), np.zeros(len(not_vehicle_features))))\n",
    "    print(len(data), len(labels))\n",
    "    \n",
    "    if(save_features_flag):\n",
    "        feature_set = {'data':data, 'labels':labels}\n",
    "        with open('data.pickle', 'wb') as handle:\n",
    "            pickle.dump(feature_set, handle, protocol=pickle.HIGHEST_PROTOCOL)\n",
    "else:\n",
    "    with open('data.pickle', 'rb') as handle:\n",
    "        loaded_feature_set = pickle.load(handle)\n",
    "        data = loaded_feature_set['data']\n",
    "        labels = loaded_feature_set['labels']\n",
    "    print(len(loaded_feature_set['data']),len(loaded_feature_set['labels']))"
   ]
  },
  {
   "cell_type": "code",
   "execution_count": 7,
   "metadata": {
    "collapsed": true
   },
   "outputs": [],
   "source": [
    "from sklearn.preprocessing import StandardScaler\n",
    "# Fit a per-column scaler\n",
    "data_scaler = StandardScaler().fit(data)\n",
    "# Apply the scaler to X\n",
    "scaled_data = data_scaler.transform(data)"
   ]
  },
  {
   "cell_type": "markdown",
   "metadata": {},
   "source": [
    "## Training Test split"
   ]
  },
  {
   "cell_type": "code",
   "execution_count": 14,
   "metadata": {
    "collapsed": false
   },
   "outputs": [
    {
     "name": "stdout",
     "output_type": "stream",
     "text": [
      "training samples: 15096 \n",
      "test samples: 2664 \n",
      "feature vector size: 4932\n"
     ]
    }
   ],
   "source": [
    "from sklearn.model_selection import train_test_split\n",
    "X_train, X_test, y_train, y_test = train_test_split(scaled_data, labels, test_size=0.15, stratify=labels)\n",
    "print(\"training samples:\", len(X_train), \"\\ntest samples:\", len(X_test), \"\\nfeature vector size:\", len(X_train[0]))"
   ]
  },
  {
   "cell_type": "markdown",
   "metadata": {},
   "source": [
    "## Test Accuracy"
   ]
  },
  {
   "cell_type": "code",
   "execution_count": 16,
   "metadata": {
    "collapsed": false
   },
   "outputs": [
    {
     "name": "stdout",
     "output_type": "stream",
     "text": [
      "Test Accuracy of SVC =  0.99\n"
     ]
    }
   ],
   "source": [
    "from sklearn.svm import LinearSVC\n",
    "\n",
    "train_svc_flag = 0\n",
    "save_svc_flag = 0\n",
    "\n",
    "if(train_svc_flag):\n",
    "    #linear SVC \n",
    "    svc = LinearSVC()\n",
    "    svc.fit(X_train, y_train)\n",
    "    print('Test Accuracy of SVC = ', round(svc.score(X_test, y_test), 2))\n",
    "    if(save_svc_flag):\n",
    "        with open('svc.pickle', 'wb') as handle:\n",
    "            pickle.dump(svc, handle, protocol=pickle.HIGHEST_PROTOCOL)\n",
    "else:\n",
    "    with open('svc.pickle', 'rb') as handle:\n",
    "        svc_loaded = pickle.load(handle)\n",
    "    print('Test Accuracy of SVC = ', round(svc_loaded.score(X_test, y_test), 2))"
   ]
  },
  {
   "cell_type": "code",
   "execution_count": null,
   "metadata": {
    "collapsed": true
   },
   "outputs": [],
   "source": []
  }
 ],
 "metadata": {
  "kernelspec": {
   "display_name": "Python 3",
   "language": "python",
   "name": "python3"
  },
  "language_info": {
   "codemirror_mode": {
    "name": "ipython",
    "version": 3
   },
   "file_extension": ".py",
   "mimetype": "text/x-python",
   "name": "python",
   "nbconvert_exporter": "python",
   "pygments_lexer": "ipython3",
   "version": "3.5.2"
  }
 },
 "nbformat": 4,
 "nbformat_minor": 2
}
